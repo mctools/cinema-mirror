{
 "cells": [
  {
   "cell_type": "code",
   "execution_count": null,
   "id": "15e9ac3d-10b3-4b0f-88a6-0926afa7f33c",
   "metadata": {
    "editable": true,
    "slideshow": {
     "slide_type": ""
    },
    "tags": []
   },
   "outputs": [],
   "source": [
    "!pip install mcpl\n",
    "!pip install scipy\n",
    "!pip install mpi4py\n",
    "!pip install trame\n",
    "!pip install ipywidgets"
   ]
  },
  {
   "cell_type": "code",
   "execution_count": null,
   "id": "c9f09a33-e8cc-4cd7-91fa-d6cf0dd85cae",
   "metadata": {},
   "outputs": [],
   "source": [
    "!prompt -g box.gdml -n 100 -v"
   ]
  },
  {
   "cell_type": "code",
   "execution_count": 1,
   "id": "5d688d9c-09d4-49d8-b2c8-7bd595905397",
   "metadata": {},
   "outputs": [
    {
     "data": {
      "application/vnd.jupyter.widget-view+json": {
       "model_id": "e8b69ce04f6448c7ba12477295c64cc8",
       "version_major": 2,
       "version_minor": 0
      },
      "text/plain": [
       "Widget(value=\"<iframe src='http://localhost:35267/index.html?ui=P_0x7fc246ddc730_0&reconnect=auto' style='widt…"
      ]
     },
     "metadata": {},
     "output_type": "display_data"
    }
   ],
   "source": [
    "from cinema_plot import tutorial_run\n",
    "tutorial_run('cubes.gdml', numNeu=100, showInJupyter=True)"
   ]
  },
  {
   "cell_type": "code",
   "execution_count": null,
   "id": "fcca8478-b2df-4266-95b5-f52fdddb252a",
   "metadata": {},
   "outputs": [],
   "source": []
  }
 ],
 "metadata": {
  "kernelspec": {
   "display_name": "Python 3 (ipykernel)",
   "language": "python",
   "name": "python3"
  },
  "language_info": {
   "codemirror_mode": {
    "name": "ipython",
    "version": 3
   },
   "file_extension": ".py",
   "mimetype": "text/x-python",
   "name": "python",
   "nbconvert_exporter": "python",
   "pygments_lexer": "ipython3",
   "version": "3.8.17"
  },
  "toc-autonumbering": true,
  "toc-showmarkdowntxt": true,
  "toc-showtags": true
 },
 "nbformat": 4,
 "nbformat_minor": 5
}
