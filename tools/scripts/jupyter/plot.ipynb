{
 "cells": [
  {
   "cell_type": "code",
   "execution_count": null,
   "id": "15e9ac3d-10b3-4b0f-88a6-0926afa7f33c",
   "metadata": {
    "editable": true,
    "slideshow": {
     "slide_type": ""
    },
    "tags": []
   },
   "outputs": [],
   "source": [
    "!pip install mcpl\n",
    "!pip install scipy\n",
    "!pip install mpi4py\n",
    "!pip install trame\n",
    "!pip install ipywidgets"
   ]
  },
  {
   "cell_type": "markdown",
   "metadata": {},
   "source": [
    "# Prompt V1.0"
   ]
  },
  {
   "cell_type": "code",
   "execution_count": null,
   "id": "c9f09a33-e8cc-4cd7-91fa-d6cf0dd85cae",
   "metadata": {},
   "outputs": [],
   "source": [
    "!prompt -g box.gdml -n 100 "
   ]
  },
  {
   "cell_type": "markdown",
   "metadata": {},
   "source": [
    "# Plot, not verbose"
   ]
  },
  {
   "cell_type": "code",
   "execution_count": null,
   "id": "5d688d9c-09d4-49d8-b2c8-7bd595905397",
   "metadata": {},
   "outputs": [],
   "source": [
    "from cinema_plot import tutorial_run\n",
    "tutorial_run('cubes.gdml', numNeu=100, showInJupyter=True)"
   ]
  },
  {
   "cell_type": "markdown",
   "id": "7be6b9eb-8785-403f-b543-5c0e119a6614",
   "metadata": {
    "editable": true,
    "slideshow": {
     "slide_type": ""
    },
    "tags": []
   },
   "source": [
    "Prompt V2.0 feature"
   ]
  },
  {
   "cell_type": "code",
   "execution_count": null,
   "id": "fcca8478-b2df-4266-95b5-f52fdddb252a",
   "metadata": {
    "editable": true,
    "slideshow": {
     "slide_type": ""
    },
    "tags": []
   },
   "outputs": [],
   "source": [
    "from Cinema.Prompt import Prompt, PromptMPI\n",
    "from Cinema.Prompt.geo import Volume, Transformation3D\n",
    "from Cinema.Prompt.solid import Box\n",
    "from Cinema.Prompt.gun import PythonGun\n",
    "import numpy as np\n",
    "\n",
    "class MySim(Prompt):\n",
    "    def __init__(self, seed=4096) -> None:\n",
    "        super().__init__(seed)\n",
    "\n",
    "    def makeWorld(self, anyUserParameters=np.zeros(2)):\n",
    "        scorerCfg_detpsd = \"Scorer=PSD;name=NeutronHistMap;xmin=-500;xmax=500;numbin_x=10;ymin=-500;ymax=500;numbin_y=10;ptstate=SURFACE;type=XY\"\n",
    "        scorerCfg_detwl = \"Scorer=WlSpectrum; name=detector; min=0.0; max=5; numbin=200\"\n",
    "        matCfg_sample = \"physics=ncrystal;nccfg='LiquidHeavyWaterD2O_T293.6K.ncmat';scatter_bias=10;abs_bias=1\"\n",
    "\n",
    "        world = Volume(\"world\", Box(210, 210, 210))\n",
    "        detector = Volume(\"Det\", Box(400, 400, 0.0001))\n",
    "        detector.addScorer(scorerCfg_detpsd)\n",
    "        detector.addScorer(scorerCfg_detwl)\n",
    "\n",
    "        sample = Volume(\"sample\", Box(20,20,20))\n",
    "        water = Volume('sbox', Box(2,2,2), matCfg = matCfg_sample)\n",
    "\n",
    "        for i in range(10):\n",
    "            sample.placeChild(\"ssample\", water, Transformation3D(0,0,2.2*(i-5.0)), scorerGroup=i)\n",
    "\n",
    "        world.placeChild(\"physicalbox\", detector, Transformation3D(0., 0., 50), 1)\n",
    "        world.placeChild(\"physicalbox2\", sample, Transformation3D(-150, 45, 45))\n",
    "        self.l.setWorld(world)\n",
    "\n",
    "\n",
    "class MyGun(PythonGun):\n",
    "    def __init__(self):\n",
    "        super().__init__()\n",
    "\n",
    "    def samplePosition(self):\n",
    "        return 0,0,-209\n",
    "\n",
    "\n",
    "sim = MySim(seed=1010)\n",
    "sim.makeWorld()\n",
    "\n",
    "# set gun\n",
    "gun = MyGun()\n",
    "sim.setGun(gun)\n",
    "sim.simulate(1000, True, True)"
   ]
  },
  {
   "cell_type": "code",
   "execution_count": null,
   "id": "6f57aca8-ec74-4fe9-a8c1-4711e37df37f",
   "metadata": {},
   "outputs": [],
   "source": []
  }
 ],
 "metadata": {
  "kernelspec": {
   "display_name": "Python 3 (ipykernel)",
   "language": "python",
   "name": "python3"
  },
  "language_info": {
   "codemirror_mode": {
    "name": "ipython",
    "version": 3
   },
   "file_extension": ".py",
   "mimetype": "text/x-python",
   "name": "python",
   "nbconvert_exporter": "python",
   "pygments_lexer": "ipython3",
   "version": "3.8.17"
  },
  "toc-autonumbering": true,
  "toc-showmarkdowntxt": true,
  "toc-showtags": true
 },
 "nbformat": 4,
 "nbformat_minor": 5
}
